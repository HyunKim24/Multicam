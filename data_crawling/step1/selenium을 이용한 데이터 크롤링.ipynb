{
 "cells": [
  {
   "cell_type": "code",
   "execution_count": 3,
   "metadata": {},
   "outputs": [],
   "source": [
    "# 기다려!! (사이트가 다 올라올때까지)"
   ]
  },
  {
   "cell_type": "code",
   "execution_count": 21,
   "metadata": {},
   "outputs": [],
   "source": [
    "# selenium 설치\n",
    "# pip install selenium\n",
    "# conda install selenium\n",
    "from selenium import webdriver as wd"
   ]
  },
  {
   "cell_type": "code",
   "execution_count": 22,
   "metadata": {},
   "outputs": [],
   "source": [
    "# 프록시 서버 사용, 브라우저를 숨긴다.(백그라운드 구동),\n",
    "# 이미지만 빼고 로드, 브라우저의 크기, 위치지정 등\n",
    "# driver = wd.ChromeOptions()\n",
    "driver = wd.Chrome('../tool/chromedriver.exe')\n",
    "# 접속주소\n",
    "target_site = 'http://www.opinet.co.kr/searRgSelect.do'\n",
    "# 접속\n",
    "driver.get(target_site)\n"
   ]
  },
  {
   "cell_type": "code",
   "execution_count": 23,
   "metadata": {},
   "outputs": [],
   "source": [
    "#지역설정 => 시도 변경 (driver는 브라우저를 의미)\n",
    "sido = driver.find_element_by_css_selector('#SIDO_NM0')\n",
    "#임시 조작\n",
    "sido.send_keys('서울특별시')"
   ]
  },
  {
   "cell_type": "code",
   "execution_count": 27,
   "metadata": {},
   "outputs": [
    {
     "data": {
      "text/plain": [
       "['서울특별시',\n",
       " '부산광역시',\n",
       " '대구광역시',\n",
       " '인천광역시',\n",
       " '광주광역시',\n",
       " '대전광역시',\n",
       " '울산광역시',\n",
       " '세종특별자치시',\n",
       " '경기도',\n",
       " '강원도',\n",
       " '충청북도',\n",
       " '충청남도',\n",
       " '전라북도',\n",
       " '전라남도',\n",
       " '경상북도',\n",
       " '경상남도',\n",
       " '제주특별자치도']"
      ]
     },
     "execution_count": 27,
     "metadata": {},
     "output_type": "execute_result"
    }
   ],
   "source": [
    "# 시도 변경 대상이 되는 option 값들 획득\n",
    "# sido에 대상이 되는 값들 획득 => list로\n",
    "sido_entry = driver.find_elements_by_css_selector('#SIDO_NM0 > option')\n",
    "# for entry in sido_entry:\n",
    "#     if entry.get_attribute('value'):\n",
    "#         print(entry.get_attribute('value'))\n",
    "\n",
    "sido_entry_value = [entry.get_attribute('value')\n",
    "                   for entry in sido_entry\n",
    "                   if entry.get_attribute('value')]\n",
    "\n",
    "sido_entry_value"
   ]
  },
  {
   "cell_type": "code",
   "execution_count": 37,
   "metadata": {},
   "outputs": [],
   "source": [
    "import time\n",
    "# 시군구\n",
    "for sido_txt in sido_entry_value:\n",
    "    sido.send_keys(sido_txt)\n",
    "    # 강제적 슬립 => 2초간 대기\n",
    "    time.sleep(2)\n",
    "    # ==========================================\n",
    "    # 시군구 -> 찾아서=>option 값 구한다.\n",
    "    # 시군구 select\n",
    "    sigungu = driver.find_element_by_css_selector('#SIGUNGU_NM0')\n",
    "    # 시군구 select 밑에 option들\n",
    "    sigungu_entry = driver.find_elements_by_css_selector('#SIGUNGU_NM0 > option')\n",
    "    # option들을 뽑아서 value 획득\n",
    "    sigungu_entrys = [item.get_attribute('value')\n",
    "                      for item in sigungu_entry\n",
    "                      if item.get_attribute('value')]\n",
    "    # 시군구 텍스트를 설정해라\n",
    "    for entry_sb in sigungu_entrys:\n",
    "        sigungu.send_keys(entry_sb)\n",
    "        time.sleep(10)\n",
    "        # 동 이하는 반복코드니까 생략\n",
    "        # 역삼동으로 설정\n",
    "        dong = driver.find_element_by_id('DONG_NM')\n",
    "        dong.send_keys('역삼동')\n",
    "        # 첫번째 구만 보고 끝\n",
    "        break\n",
    "    \n",
    "    \n",
    "    # 서울 특별시만 하겠다\n",
    "    break"
   ]
  },
  {
   "cell_type": "code",
   "execution_count": null,
   "metadata": {},
   "outputs": [],
   "source": [
    "#지역설정 => 시도 변경 (driver는 브라우저를 의미)\n",
    "sido = driver.find_element_by_css_selector('#SIDO_NM0')\n",
    "#임시 조작\n",
    "sido.send_keys('서울특별시')\n",
    " # 시군구 select\n",
    "sigungu = driver.find_element_by_css_selector('#SIGUNGU_NM0')\n",
    "dong = driver.find_element_by_id('DONG_NM')\n",
    "dong.send_keys('역삼동')\n",
    "dong = driver.find_element_by_id('DONG_NM')\n",
    "dong.send_keys('역삼동')"
   ]
  },
  {
   "cell_type": "code",
   "execution_count": 40,
   "metadata": {},
   "outputs": [],
   "source": [
    "dong = driver.find_element_by_id('DONG_NM')\n",
    "dong.send_keys('역삼동')"
   ]
  },
  {
   "cell_type": "code",
   "execution_count": 41,
   "metadata": {},
   "outputs": [],
   "source": [
    "# 조회 버튼 누르기\n",
    "driver.find_element_by_id('searRgSelect').click()"
   ]
  },
  {
   "cell_type": "code",
   "execution_count": 42,
   "metadata": {},
   "outputs": [],
   "source": [
    "# 엑셀 다운로드\n",
    "driver.find_element_by_id('glopopd_excel').click()"
   ]
  },
  {
   "cell_type": "code",
   "execution_count": null,
   "metadata": {},
   "outputs": [],
   "source": []
  }
 ],
 "metadata": {
  "kernelspec": {
   "display_name": "Python 3",
   "language": "python",
   "name": "python3"
  },
  "language_info": {
   "codemirror_mode": {
    "name": "ipython",
    "version": 3
   },
   "file_extension": ".py",
   "mimetype": "text/x-python",
   "name": "python",
   "nbconvert_exporter": "python",
   "pygments_lexer": "ipython3",
   "version": "3.7.1"
  }
 },
 "nbformat": 4,
 "nbformat_minor": 2
}
